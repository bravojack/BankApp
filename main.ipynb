{
 "cells": [
  {
   "cell_type": "code",
   "execution_count": null,
   "id": "ded562c0",
   "metadata": {
    "scrolled": false
   },
   "outputs": [],
   "source": [
    "from bankapp_python.UI import UI\n",
    "from bankapp_python.Bank import Bank\n",
    "\n",
    "bank = Bank()\n",
    "ui = UI(bank)\n",
    "ui.run()"
   ]
  }
 ],
 "metadata": {
  "kernelspec": {
   "display_name": "Python 3 (ipykernel)",
   "language": "python",
   "name": "python3"
  },
  "language_info": {
   "codemirror_mode": {
    "name": "ipython",
    "version": 3
   },
   "file_extension": ".py",
   "mimetype": "text/x-python",
   "name": "python",
   "nbconvert_exporter": "python",
   "pygments_lexer": "ipython3",
   "version": "3.9.7"
  }
 },
 "nbformat": 4,
 "nbformat_minor": 5
}
